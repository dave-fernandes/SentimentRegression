{
 "cells": [
  {
   "cell_type": "markdown",
   "metadata": {},
   "source": [
    "# Regression Analysis for Market Predictions\n",
    "\n",
    "> Copyright 2019 Dave Fernandes. All Rights Reserved.\n",
    "> \n",
    "> Licensed under the Apache License, Version 2.0 (the \"License\");\n",
    "> you may not use this file except in compliance with the License.\n",
    "> You may obtain a copy of the License at\n",
    ">\n",
    "> http://www.apache.org/licenses/LICENSE-2.0\n",
    ">  \n",
    "> Unless required by applicable law or agreed to in writing, software\n",
    "> distributed under the License is distributed on an \"AS IS\" BASIS,\n",
    "> WITHOUT WARRANTIES OR CONDITIONS OF ANY KIND, either express or implied.\n",
    "> See the License for the specific language governing permissions and\n",
    "> limitations under the License."
   ]
  },
  {
   "cell_type": "markdown",
   "metadata": {},
   "source": [
    "## Overview\n",
    "This notebook performs regression to predict stock index changes from the daily news content.\n",
    "- Data for this analysis should be prepared using the `Preprocessing.ipynb` notebook from this project."
   ]
  },
  {
   "cell_type": "code",
   "execution_count": 1,
   "metadata": {},
   "outputs": [],
   "source": [
    "import numpy as np\n",
    "import matplotlib.pyplot as plt\n",
    "import os\n",
    "import datetime\n",
    "import pickle\n",
    "\n",
    "import tensorflow as tf\n",
    "tf.enable_eager_execution()"
   ]
  },
  {
   "cell_type": "markdown",
   "metadata": {},
   "source": [
    "### Mapping function for stock index dataset\n",
    "- Includes normalization"
   ]
  },
  {
   "cell_type": "code",
   "execution_count": 2,
   "metadata": {},
   "outputs": [],
   "source": [
    "STOCKS_TRAIN_RECORDS = './data/stock_train.tfrecords'\n",
    "STOCKS_NORM = './data/stock_norm.py'\n",
    "\n",
    "# Column indices for 'statistics' feature of stocks TFRecord\n",
    "DAYS_SINCE_LAST_TRADE = 0  # Days elapsed since previous trading day\n",
    "DAYS_UNTIL_NEXT_TRADE = 1  # Days until next trading day\n",
    "OPEN_LOG_RATIO        = 2  # Log of ratio of adjusted open to previous day's adjusted close\n",
    "CLOSE_LOG_RATIO       = 3  # Log of ratio of adjusted close to previous day's adjusted close\n",
    "HIGH_LOG_RATIO        = 4  # Log of ratio of adjusted high to previous day's adjusted close\n",
    "LOW_LOG_RATIO         = 5  # Log of ratio of adjusted low to previous day's adjusted close\n",
    "VOLUME_LOG            = 6  # Log of volume\n",
    "STATISTICS_COUNT      = 7\n",
    "\n",
    "REGRESSION_LABEL_COUNT = 1\n",
    "\n",
    "# Row indices for normalization info\n",
    "MEAN_ROW    = 0\n",
    "STD_DEV_ROW = 1\n",
    "MAX_ROW     = 2\n",
    "MIN_ROW     = 3\n",
    "\n",
    "with open(STOCKS_NORM, 'rb') as file:\n",
    "    normalization = pickle.load(file)\n",
    "\n",
    "STOCKS_TEST_RECORDS = './data/stock_test.tfrecords'\n",
    "\n",
    "def parse_stock_record(example):\n",
    "    # Features in stocks TFRecord file\n",
    "    F_DATE = 'date'               # Date label (unique; UTF-8)\n",
    "    F_STATISTICS = 'statistics'   # Vector of floating point stats (see column indices below)\n",
    "    F_INC_AT_OPEN  = 'open_inc'   # 1 if adjusted open price is greater than previous day's adjusted close price; 0 otherwise\n",
    "    F_INC_AT_CLOSE = 'close_inc'  # 1 if close price is greater than open price; 0 otherwise\n",
    "\n",
    "    features_desc = {\n",
    "        F_DATE: tf.FixedLenFeature([], tf.string),\n",
    "        F_INC_AT_OPEN: tf.FixedLenFeature([], tf.int64),\n",
    "        F_INC_AT_CLOSE: tf.FixedLenFeature([], tf.int64),\n",
    "        F_STATISTICS: tf.FixedLenFeature([STATISTICS_COUNT], tf.float32),\n",
    "        }\n",
    "    features = tf.parse_single_example(example, features=features_desc)\n",
    "    \n",
    "    date = features[F_DATE]\n",
    "    inc_open = features[F_INC_AT_OPEN]\n",
    "    inc_close = features[F_INC_AT_CLOSE]\n",
    "    statistics = features[F_STATISTICS]\n",
    "    \n",
    "    # Normalize to zero mean and unit variance\n",
    "    normed_stats = (statistics - normalization[MEAN_ROW][:STATISTICS_COUNT]) / normalization[STD_DEV_ROW][:STATISTICS_COUNT]\n",
    "    \n",
    "    # Regress against labels: OPEN_LOG_RATIO through LOW_LOG_RATIO elements (4 total)\n",
    "    out = tf.slice(normed_stats, [CLOSE_LOG_RATIO], [REGRESSION_LABEL_COUNT])\n",
    "    \n",
    "    return out"
   ]
  },
  {
   "cell_type": "markdown",
   "metadata": {},
   "source": [
    "### Mapping function for news dataset\n",
    "- BERT feature vectors for each news story grouped by date"
   ]
  },
  {
   "cell_type": "code",
   "execution_count": 3,
   "metadata": {},
   "outputs": [],
   "source": [
    "NEWS_TEST_RECORDS = './data/news_test.tfrecords'\n",
    "NEWS_TRAIN_RECORDS = './data/news_train.tfrecords'\n",
    "FEATURE_VECTOR_LENGTH = 768*4\n",
    "FEATURE_VECTOR_COUNT = 25\n",
    "\n",
    "def parse_news_record(example):\n",
    "    # Features in news TFRecord file\n",
    "    F_LENGTH = 'vector_length' # Length of each feature vector\n",
    "    F_COUNT = 'vector_count'   # Count of feature vectors in list\n",
    "    F_VECTORS  = 'vector_list' # List of feature vectors\n",
    "\n",
    "    features_desc = {\n",
    "        F_LENGTH: tf.FixedLenFeature([], tf.int64),\n",
    "        F_COUNT: tf.FixedLenFeature([], tf.int64),\n",
    "        F_VECTORS: tf.FixedLenFeature([FEATURE_VECTOR_COUNT, FEATURE_VECTOR_LENGTH], tf.float32),\n",
    "        }\n",
    "    features = tf.parse_single_example(example, features=features_desc)\n",
    "    \n",
    "    v_length = features[F_LENGTH]\n",
    "    v_count = features[F_COUNT]\n",
    "    v_list = features[F_VECTORS]\n",
    "    \n",
    "    return {'news_embedding': v_list}"
   ]
  },
  {
   "cell_type": "markdown",
   "metadata": {},
   "source": [
    "### Input functions for Estimator"
   ]
  },
  {
   "cell_type": "code",
   "execution_count": 4,
   "metadata": {},
   "outputs": [],
   "source": [
    "def train_input_fn():\n",
    "    news_train_set = tf.data.TFRecordDataset([NEWS_TRAIN_RECORDS]).map(parse_news_record)\n",
    "    stock_train_set = tf.data.TFRecordDataset([STOCKS_TRAIN_RECORDS]).map(parse_stock_record)\n",
    "    train_set = tf.data.Dataset.zip((news_train_set, stock_train_set)).repeat().shuffle(10000).batch(200)\n",
    "    return train_set\n",
    "\n",
    "def train_plot_input_fn():\n",
    "    news_train_set = tf.data.TFRecordDataset([NEWS_TRAIN_RECORDS]).map(parse_news_record)\n",
    "    stock_train_set = tf.data.TFRecordDataset([STOCKS_TRAIN_RECORDS]).map(parse_stock_record)\n",
    "    train_set = tf.data.Dataset.zip((news_train_set, stock_train_set)).batch(2000)\n",
    "    return train_set\n",
    "\n",
    "def test_input_fn():\n",
    "    news_test_set = tf.data.TFRecordDataset([NEWS_TEST_RECORDS]).map(parse_news_record)\n",
    "    stock_test_set = tf.data.TFRecordDataset([STOCKS_TEST_RECORDS]).map(parse_stock_record)\n",
    "    test_set = tf.data.Dataset.zip((news_test_set, stock_test_set)).batch(1000)\n",
    "    return test_set"
   ]
  },
  {
   "cell_type": "markdown",
   "metadata": {},
   "source": [
    "### Define model"
   ]
  },
  {
   "cell_type": "code",
   "execution_count": 5,
   "metadata": {},
   "outputs": [],
   "source": [
    "def news_model_fn(features, labels, mode, params):\n",
    "    current_layer = tf.feature_column.input_layer(features, params['feature_columns'])\n",
    "    current_layer = tf.expand_dims(tf.layers.flatten(current_layer, name='flatten_input'), -1)\n",
    "    \n",
    "    for i, units in enumerate(params['conv_filters']):\n",
    "        if i == 0:\n",
    "            kernel_size = FEATURE_VECTOR_LENGTH,\n",
    "            strides = FEATURE_VECTOR_LENGTH,\n",
    "        else:\n",
    "            kernel_size = 1,\n",
    "            strides = 1,\n",
    "            \n",
    "        current_layer = tf.layers.conv1d(current_layer,\n",
    "            name='conv1d_' + str(i+1),\n",
    "            filters=units,\n",
    "            data_format='channels_last',\n",
    "            kernel_size=kernel_size,\n",
    "            strides=strides,\n",
    "            padding='valid',\n",
    "            kernel_initializer=tf.glorot_normal_initializer(),\n",
    "            kernel_regularizer=tf.keras.regularizers.l2(l=0.01),\n",
    "            bias_regularizer=tf.keras.regularizers.l2(l=0.01),\n",
    "            activation=tf.nn.tanh)\n",
    "\n",
    "    current_layer = tf.layers.max_pooling1d(current_layer,\n",
    "        pool_size=FEATURE_VECTOR_COUNT,\n",
    "        strides=1,\n",
    "        padding='valid',\n",
    "        data_format='channels_last')\n",
    "\n",
    "    current_layer = tf.layers.flatten(current_layer)\n",
    "    \n",
    "    for i, units in enumerate(params['hidden_units']):\n",
    "        current_layer = tf.layers.dense(current_layer,\n",
    "            name='dense_' + str(i+1),\n",
    "            units=units,\n",
    "            kernel_initializer=tf.glorot_normal_initializer(),\n",
    "            kernel_regularizer=tf.keras.regularizers.l2(l=0.01),\n",
    "            bias_regularizer=tf.keras.regularizers.l2(l=0.01),\n",
    "            activation=tf.nn.tanh)\n",
    "\n",
    "    regression_layer = tf.layers.dense(current_layer,\n",
    "        name='linear_output',\n",
    "        units=REGRESSION_LABEL_COUNT,\n",
    "        kernel_initializer=tf.glorot_normal_initializer(),\n",
    "        kernel_regularizer=tf.keras.regularizers.l2(l=0.01),\n",
    "        bias_regularizer=tf.keras.regularizers.l2(l=0.01),\n",
    "        activation=None)\n",
    "\n",
    "    # For prediction, exit here\n",
    "    if mode == tf.estimator.ModeKeys.PREDICT:\n",
    "        predictions = {\n",
    "            'predictions': regression_layer,\n",
    "        }\n",
    "        return tf.estimator.EstimatorSpec(mode, predictions=predictions)\n",
    "\n",
    "    # For training and evaluation, compute the loss (MSE)\n",
    "    loss = tf.losses.mean_squared_error(labels, regression_layer)\n",
    "\n",
    "    abs_error = tf.metrics.mean_tensor(tf.reduce_mean(tf.abs(labels - regression_layer), axis=0))\n",
    "    metrics = {'abs_error': abs_error}\n",
    "    tf.summary.tensor_summary('abs_error', abs_error)\n",
    "\n",
    "    if mode == tf.estimator.ModeKeys.EVAL:\n",
    "        return tf.estimator.EstimatorSpec(mode, loss=loss, eval_metric_ops=metrics)\n",
    "\n",
    "    # For training...\n",
    "    optimizer = tf.train.AdagradOptimizer(learning_rate=0.01)\n",
    "    train_op = optimizer.minimize(loss, global_step=tf.train.get_global_step())\n",
    "    return tf.estimator.EstimatorSpec(mode, loss=loss, train_op=train_op)"
   ]
  },
  {
   "cell_type": "markdown",
   "metadata": {},
   "source": [
    "### Train model"
   ]
  },
  {
   "cell_type": "code",
   "execution_count": 6,
   "metadata": {
    "scrolled": false
   },
   "outputs": [
    {
     "name": "stdout",
     "output_type": "stream",
     "text": [
      "INFO:tensorflow:Using default config.\n",
      "INFO:tensorflow:Using config: {'_model_dir': './data/Regression', '_tf_random_seed': None, '_save_summary_steps': 100, '_save_checkpoints_steps': None, '_save_checkpoints_secs': 600, '_session_config': allow_soft_placement: true\n",
      "graph_options {\n",
      "  rewrite_options {\n",
      "    meta_optimizer_iterations: ONE\n",
      "  }\n",
      "}\n",
      ", '_keep_checkpoint_max': 5, '_keep_checkpoint_every_n_hours': 10000, '_log_step_count_steps': 100, '_train_distribute': None, '_device_fn': None, '_protocol': None, '_eval_distribute': None, '_experimental_distribute': None, '_service': None, '_cluster_spec': <tensorflow.python.training.server_lib.ClusterSpec object at 0xb3d209080>, '_task_type': 'worker', '_task_id': 0, '_global_id_in_cluster': 0, '_master': '', '_evaluation_master': '', '_is_chief': True, '_num_ps_replicas': 0, '_num_worker_replicas': 1}\n",
      "INFO:tensorflow:Calling model_fn.\n",
      "INFO:tensorflow:Done calling model_fn.\n",
      "INFO:tensorflow:Create CheckpointSaverHook.\n",
      "INFO:tensorflow:Graph was finalized.\n",
      "INFO:tensorflow:Running local_init_op.\n",
      "INFO:tensorflow:Done running local_init_op.\n",
      "INFO:tensorflow:Saving checkpoints for 0 into ./data/Regression/model.ckpt.\n",
      "INFO:tensorflow:loss = 0.75714785, step = 1\n",
      "INFO:tensorflow:global_step/sec: 1.27715\n",
      "INFO:tensorflow:loss = 1.3205944, step = 101 (78.301 sec)\n",
      "INFO:tensorflow:global_step/sec: 1.2596\n",
      "INFO:tensorflow:loss = 0.73109114, step = 201 (79.390 sec)\n",
      "INFO:tensorflow:global_step/sec: 1.29804\n",
      "INFO:tensorflow:loss = 1.282559, step = 301 (77.039 sec)\n",
      "INFO:tensorflow:global_step/sec: 1.30593\n",
      "INFO:tensorflow:loss = 1.1297222, step = 401 (76.574 sec)\n",
      "INFO:tensorflow:global_step/sec: 1.3227\n",
      "INFO:tensorflow:loss = 0.8990208, step = 501 (75.603 sec)\n",
      "INFO:tensorflow:global_step/sec: 1.30654\n",
      "INFO:tensorflow:loss = 0.60956204, step = 601 (76.539 sec)\n",
      "INFO:tensorflow:global_step/sec: 1.27088\n",
      "INFO:tensorflow:loss = 1.0414302, step = 701 (78.685 sec)\n",
      "INFO:tensorflow:Saving checkpoints for 750 into ./data/Regression/model.ckpt.\n",
      "INFO:tensorflow:global_step/sec: 1.24035\n",
      "INFO:tensorflow:loss = 1.3570956, step = 801 (80.623 sec)\n",
      "INFO:tensorflow:global_step/sec: 1.25964\n",
      "INFO:tensorflow:loss = 0.72021806, step = 901 (79.387 sec)\n",
      "INFO:tensorflow:global_step/sec: 1.31537\n",
      "INFO:tensorflow:loss = 0.76288086, step = 1001 (76.028 sec)\n",
      "INFO:tensorflow:global_step/sec: 1.33789\n",
      "INFO:tensorflow:loss = 0.69558746, step = 1101 (74.742 sec)\n",
      "INFO:tensorflow:global_step/sec: 1.28554\n",
      "INFO:tensorflow:loss = 0.659131, step = 1201 (77.788 sec)\n",
      "INFO:tensorflow:global_step/sec: 1.29571\n",
      "INFO:tensorflow:loss = 1.1993983, step = 1301 (77.178 sec)\n",
      "INFO:tensorflow:global_step/sec: 1.30122\n",
      "INFO:tensorflow:loss = 0.8002821, step = 1401 (76.851 sec)\n",
      "INFO:tensorflow:global_step/sec: 1.26909\n",
      "INFO:tensorflow:loss = 0.80943036, step = 1501 (78.796 sec)\n",
      "INFO:tensorflow:Saving checkpoints for 1525 into ./data/Regression/model.ckpt.\n",
      "INFO:tensorflow:global_step/sec: 1.28261\n",
      "INFO:tensorflow:loss = 1.3111418, step = 1601 (77.967 sec)\n",
      "INFO:tensorflow:global_step/sec: 1.27029\n",
      "INFO:tensorflow:loss = 0.7498588, step = 1701 (78.721 sec)\n",
      "INFO:tensorflow:global_step/sec: 1.2718\n",
      "INFO:tensorflow:loss = 0.63128495, step = 1801 (78.629 sec)\n",
      "INFO:tensorflow:global_step/sec: 1.31432\n",
      "INFO:tensorflow:loss = 0.85097367, step = 1901 (76.085 sec)\n",
      "INFO:tensorflow:Saving checkpoints for 2000 into ./data/Regression/model.ckpt.\n",
      "INFO:tensorflow:Loss for final step: 0.65547365.\n",
      "INFO:tensorflow:Calling model_fn.\n",
      "INFO:tensorflow:Done calling model_fn.\n",
      "INFO:tensorflow:Starting evaluation at 2019-02-22-16:39:53\n",
      "INFO:tensorflow:Graph was finalized.\n",
      "INFO:tensorflow:Restoring parameters from ./data/Regression/model.ckpt-2000\n",
      "INFO:tensorflow:Running local_init_op.\n",
      "INFO:tensorflow:Done running local_init_op.\n",
      "INFO:tensorflow:Finished evaluation at 2019-02-22-16:39:55\n",
      "INFO:tensorflow:Saving dict for global step 2000: abs_error = [0.68662286], global_step = 2000, loss = 0.7739976\n",
      "INFO:tensorflow:Summary for np.ndarray is not visible in Tensorboard by default. Consider using a Tensorboard plugin for visualization (see https://github.com/tensorflow/tensorboard-plugin-example/blob/master/README.md for more information).\n",
      "INFO:tensorflow:Saving 'checkpoint_path' summary for global step 2000: ./data/Regression/model.ckpt-2000\n"
     ]
    }
   ],
   "source": [
    "MODEL_DIR = './data/Regression'\n",
    "\n",
    "feature_columns = [tf.feature_column.numeric_column('news_embedding', [FEATURE_VECTOR_COUNT, FEATURE_VECTOR_LENGTH])]\n",
    "\n",
    "regressor = tf.estimator.Estimator(\n",
    "    model_fn=news_model_fn,\n",
    "    model_dir=MODEL_DIR,\n",
    "    params={\n",
    "        'feature_columns': feature_columns,\n",
    "        'conv_filters': [300, 30],\n",
    "        'hidden_units': [30, 8],\n",
    "    })\n",
    "\n",
    "regressor.train(train_input_fn, steps=2000)\n",
    "\n",
    "info = regressor.evaluate(input_fn=test_input_fn)"
   ]
  },
  {
   "cell_type": "markdown",
   "metadata": {},
   "source": [
    "### Plot the predictions"
   ]
  },
  {
   "cell_type": "code",
   "execution_count": 9,
   "metadata": {},
   "outputs": [
    {
     "name": "stdout",
     "output_type": "stream",
     "text": [
      "INFO:tensorflow:Calling model_fn.\n",
      "INFO:tensorflow:Done calling model_fn.\n",
      "INFO:tensorflow:Graph was finalized.\n",
      "INFO:tensorflow:Restoring parameters from ./data/Regression/model.ckpt-2000\n",
      "INFO:tensorflow:Running local_init_op.\n",
      "INFO:tensorflow:Done running local_init_op.\n"
     ]
    },
    {
     "data": {
      "image/png": "[encoded data removed]",
      "text/plain": [
       "<Figure size 432x288 with 1 Axes>"
      ]
     },
     "metadata": {
      "needs_background": "light"
     },
     "output_type": "display_data"
    }
   ],
   "source": [
    "dataset_fn = train_plot_input_fn\n",
    "\n",
    "predictions = regressor.predict(input_fn=dataset_fn)\n",
    "dataset = dataset_fn()\n",
    "actual = []\n",
    "predicted = []\n",
    "\n",
    "for i, value in enumerate(predictions):\n",
    "    predicted.append(value['predictions'])\n",
    "    \n",
    "for x, y in dataset.take(2000):\n",
    "    actual = y.numpy()\n",
    "\n",
    "actual = np.reshape(actual, (len(actual), REGRESSION_LABEL_COUNT))\n",
    "predicted = np.reshape(predicted, (len(predicted), REGRESSION_LABEL_COUNT))\n",
    "\n",
    "titles = ['Open', 'Close', 'High', 'Low']\n",
    "\n",
    "for offset in range(REGRESSION_LABEL_COUNT):\n",
    "    maximum = max(actual[:, offset] + predicted[:, offset])\n",
    "    minimum = min(actual[:, offset] + predicted[:, offset])\n",
    "    plt.plot([minimum,maximum],[minimum,maximum])\n",
    "    \n",
    "    plt.scatter(actual[:, offset], predicted[:, offset], marker='.', s=1)\n",
    "    \n",
    "    plt.ylabel('predicted')\n",
    "    plt.xlabel('actual')\n",
    "    plt.title(titles[offset] + ' Log Ratio')\n",
    "    plt.show()"
   ]
  },
  {
   "cell_type": "code",
   "execution_count": 10,
   "metadata": {},
   "outputs": [
    {
     "data": {
      "image/png": "[encoded data removed]",
      "text/plain": [
       "<Figure size 432x288 with 1 Axes>"
      ]
     },
     "metadata": {
      "needs_background": "light"
     },
     "output_type": "display_data"
    }
   ],
   "source": [
    "for offset in range(REGRESSION_LABEL_COUNT):\n",
    "    maximum = max(predicted[:, offset])\n",
    "    minimum = min(predicted[:, offset])\n",
    "    plt.plot([minimum,maximum],[minimum,maximum])\n",
    "    \n",
    "    plt.scatter(actual[:, offset], predicted[:, offset], marker='.', s=1)\n",
    "    \n",
    "    plt.ylabel('predicted')\n",
    "    plt.xlabel('actual')\n",
    "    plt.title(titles[offset] + ' Log Ratio')\n",
    "    plt.show()"
   ]
  },
  {
   "cell_type": "code",
   "execution_count": null,
   "metadata": {},
   "outputs": [],
   "source": []
  }
 ],
 "metadata": {
  "kernelspec": {
   "display_name": "Python 3",
   "language": "python",
   "name": "python3"
  },
  "language_info": {
   "codemirror_mode": {
    "name": "ipython",
    "version": 3
   },
   "file_extension": ".py",
   "mimetype": "text/x-python",
   "name": "python",
   "nbconvert_exporter": "python",
   "pygments_lexer": "ipython3",
   "version": "3.6.7"
  }
 },
 "nbformat": 4,
 "nbformat_minor": 2
}
